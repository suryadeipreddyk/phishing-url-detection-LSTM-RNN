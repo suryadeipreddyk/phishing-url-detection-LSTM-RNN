{
  "cells": [
    {
      "cell_type": "markdown",
      "metadata": {
        "id": "8u_L1bWBXjPy"
      },
      "source": [
        "### **Step 0 - Loading the Packages**"
      ]
    },
    {
      "cell_type": "code",
      "execution_count": null,
      "metadata": {
        "id": "_-chygrgXx2M"
      },
      "outputs": [],
      "source": [
        "import torch\n",
        "import torch.nn as nn\n",
        "import torch.optim as optim\n",
        "from torch.utils.data import Dataset, DataLoader\n",
        "from sklearn.model_selection import train_test_split\n",
        "from sklearn.preprocessing import LabelEncoder\n",
        "from keras.preprocessing.text import Tokenizer\n",
        "from keras.preprocessing.sequence import pad_sequences\n",
        "import pandas as pd\n",
        "from tabulate import tabulate\n"
      ]
    },
    {
      "cell_type": "markdown",
      "metadata": {
        "id": "14jbJ9g_X3uN"
      },
      "source": [
        "### **Step  1 - Loading the dataset and printing  basic information about the data**"
      ]
    },
    {
      "cell_type": "code",
      "execution_count": null,
      "metadata": {
        "id": "gydcmVRKYQwQ"
      },
      "outputs": [],
      "source": [
        "#from google.colab import files\n",
        "#files.upload()\n",
        "\n",
        "file_path = '/content/phishing_site_urls.csv'"
      ]
    },
    {
      "cell_type": "code",
      "execution_count": null,
      "metadata": {
        "colab": {
          "base_uri": "https://localhost:8080/"
        },
        "id": "C7Tgg0lRYfW5",
        "outputId": "e71359e2-fe60-4684-88e4-0673617dae0c"
      },
      "outputs": [
        {
          "output_type": "stream",
          "name": "stdout",
          "text": [
            "<bound method NDFrame.head of                                                       URL Label\n",
            "0       nobell.it/70ffb52d079109dca5664cce6f317373782/...   bad\n",
            "1       www.dghjdgf.com/paypal.co.uk/cycgi-bin/webscrc...   bad\n",
            "2       serviciosbys.com/paypal.cgi.bin.get-into.herf....   bad\n",
            "3       mail.printakid.com/www.online.americanexpress....   bad\n",
            "4       thewhiskeydregs.com/wp-content/themes/widescre...   bad\n",
            "...                                                   ...   ...\n",
            "549341                                    23.227.196.215/   bad\n",
            "549342                                 apple-checker.org/   bad\n",
            "549343                                  apple-iclods.org/   bad\n",
            "549344                                 apple-uptoday.org/   bad\n",
            "549345                                  apple-search.info   bad\n",
            "\n",
            "[549346 rows x 2 columns]>\n",
            "(549346, 2)\n"
          ]
        }
      ],
      "source": [
        "file = 'phishing_site_urls.csv'\n",
        "\n",
        "#Load the dataset\n",
        "data_frame= pd.read_csv(file_path)\n",
        "print(data_frame.head)\n",
        "print(data_frame.shape)"
      ]
    },
    {
      "cell_type": "markdown",
      "metadata": {
        "id": "qjJP9W0Ab24c"
      },
      "source": [
        "### **Step 2 - Data Preprocessing**"
      ]
    },
    {
      "cell_type": "code",
      "execution_count": null,
      "metadata": {
        "colab": {
          "base_uri": "https://localhost:8080/"
        },
        "id": "fW7R2amXcBif",
        "outputId": "f97999d3-8ece-473a-fd3d-a143cfa33693"
      },
      "outputs": [
        {
          "output_type": "stream",
          "name": "stdout",
          "text": [
            "(507111, 2)\n"
          ]
        }
      ],
      "source": [
        "# Preprocess the data:\n",
        "# Convert URLs to lowercase\n",
        "data_frame ['URL'] = data_frame['URL'].apply(lambda x: x.lower ())\n",
        "\n",
        "# remove duplicates\n",
        "data_frame.drop(data_frame[data_frame.URL.duplicated() == True].index, axis=0, inplace=True)\n",
        "data_frame .reset_index(drop=True)\n",
        "\n",
        "# replace text labels with integer labels:\n",
        "data_frame[ 'Label'] = data_frame[ 'Label']. replace({'bad': 0, 'good': 1})\n",
        "\n",
        "# You can see that the number of rows is reduced since we removed duplicates:\n",
        "print(data_frame.shape) # print dataset size: (# of rows, # of columns)"
      ]
    },
    {
      "cell_type": "markdown",
      "metadata": {
        "id": "XXXmmzBJemil"
      },
      "source": [
        "### **Step 3 - Convert a URL into a sequence of integers and pad the sequence to make it the same length:**"
      ]
    },
    {
      "cell_type": "code",
      "execution_count": null,
      "metadata": {
        "id": "uO2yO8NSetdf"
      },
      "outputs": [],
      "source": [
        "# Machine learning is to find the function f such that f(X) --> y\n",
        "# Get X and y from the dataframe:\n",
        "X = data_frame['URL'].values\n",
        "y = data_frame['Label'].values  # 'label' is the column with phishing labels\n",
        "\n",
        "# The original dataset is too big: 507K rows. I choose 50% of it for this assignment:\n",
        "X, X_test, y, y_test = train_test_split(X, y, test_size=0.5, random_state=42)\n",
        "\n",
        "# Tokenize: convert characters into integers:\n",
        "tokenizer = Tokenizer(char_level=True)\n",
        "tokenizer.fit_on_texts(X)\n",
        "sequences = tokenizer.texts_to_sequences(X)\n",
        "\n",
        "# Pad the the sequence to make sure each input data has the same length:\n",
        "#max_len = max([len(seq) for seq in sequences])  <-- this line causes the RAM issue,\n",
        "# because max_len is more than 1K from the dataset.\n",
        "max_len = 200 # <--instead, use a much smaller length\n",
        "X_padded = pad_sequences(sequences, maxlen=max_len, padding='post')\n",
        "# \"post\" means: the padding, zeros, should be added at the end if a sequence is shorter than max_len"
      ]
    },
    {
      "cell_type": "code",
      "execution_count": null,
      "metadata": {
        "colab": {
          "base_uri": "https://localhost:8080/"
        },
        "id": "QL42XCqJfCFz",
        "outputId": "27ed3712-e81e-456b-c4b4-5962ae569282"
      },
      "outputs": [
        {
          "output_type": "stream",
          "name": "stdout",
          "text": [
            "jorgensenconveyors.com/replacement.aspx\n",
            "[39  2  9 20  1 10  8  1 10  7  2 10 29  1 25  2  9  8 12  7  2 11  5  9\n",
            "  1 15 13  3  7  1 11  1 10  6 12  3  8 15 37  0  0  0  0  0  0  0  0  0\n",
            "  0  0  0  0  0  0  0  0  0  0  0  0  0  0  0  0  0  0  0  0  0  0  0  0\n",
            "  0  0  0  0  0  0  0  0  0  0  0  0  0  0  0  0  0  0  0  0  0  0  0  0\n",
            "  0  0  0  0  0  0  0  0  0  0  0  0  0  0  0  0  0  0  0  0  0  0  0  0\n",
            "  0  0  0  0  0  0  0  0  0  0  0  0  0  0  0  0  0  0  0  0  0  0  0  0\n",
            "  0  0  0  0  0  0  0  0  0  0  0  0  0  0  0  0  0  0  0  0  0  0  0  0\n",
            "  0  0  0  0  0  0  0  0  0  0  0  0  0  0  0  0  0  0  0  0  0  0  0  0\n",
            "  0  0  0  0  0  0  0  0]\n",
            "[0 1 1 1]\n",
            "200\n"
          ]
        }
      ],
      "source": [
        "print(X[1])\n",
        "print(X_padded [1])\n",
        "print(y[:4])\n",
        "print(len(X_padded [1]))"
      ]
    },
    {
      "cell_type": "markdown",
      "metadata": {
        "id": "BU95B712fHgM"
      },
      "source": [
        "### **Step 4 - Split dataset, convert data into PyTorch tensors, and then create DataLoader instances**\n",
        "\n"
      ]
    },
    {
      "cell_type": "code",
      "execution_count": null,
      "metadata": {
        "id": "ICI36n4XfRq5"
      },
      "outputs": [],
      "source": [
        "# Split the data into training and testing sets\n",
        "X_train, X_test, y_train, y_test = train_test_split(X_padded, y, test_size=0.5, random_state=42)\n",
        "\n",
        "# If you need to reduce the dataset, keep splitting the data into training and testing sets:\n",
        "#X_train, X_test, y_train, y_test = train_test_split(X_train, y_train, test_size=0.3,random_state=42)\n",
        "\n",
        "# Convert data to PyTorch tensors\n",
        "X_train_tensor = torch.tensor(X_train, dtype=torch.long)\n",
        "X_test_tensor = torch.tensor(X_test, dtype=torch.long)\n",
        "y_train_tensor = torch.tensor(y_train, dtype=torch.float32)\n",
        "y_test_tensor = torch.tensor(y_test, dtype=torch.float32)\n",
        "\n",
        "# Define the dataset class\n",
        "class PhishingDataset(Dataset):\n",
        "    def __init__(self, X, y):\n",
        "      self.X = X\n",
        "      self.y = y\n",
        "    def __len__(self):\n",
        "        return len(self.X)\n",
        "    def __getitem__(self, idx):\n",
        "        return self.X[idx], self.y[idx]\n",
        "\n",
        "# Create DataLoader instances\n",
        "train_dataset = PhishingDataset(X_train_tensor, y_train_tensor)\n",
        "test_dataset = PhishingDataset(X_test_tensor, y_test_tensor)\n",
        "train_loader = DataLoader(train_dataset, batch_size=32, shuffle=True) # 32 samples will be loaded and passed to the model in each iteration of the training loop\n",
        "test_loader = DataLoader(test_dataset, batch_size=32, shuffle=False) # 32 samples will be loaded and passed to the model in each iteration of the testing loop"
      ]
    },
    {
      "cell_type": "markdown",
      "metadata": {
        "id": "8eCdOiebf1AI"
      },
      "source": [
        "### **Step 5 - Define our LSTM model**"
      ]
    },
    {
      "cell_type": "code",
      "execution_count": null,
      "metadata": {
        "id": "df-nKogff8EL"
      },
      "outputs": [],
      "source": [
        "# Define the LSTM model\n",
        "class PhishingClassifier(nn.Module):\n",
        "\n",
        "    def __init__(self, vocab_size, embedding_dim, hidden_dim, output_dim):\n",
        "        super(PhishingClassifier, self).__init__()\n",
        "        self.embedding = nn.Embedding(vocab_size, embedding_dim) # embedding layer\n",
        "        self.lstm = nn.LSTM(embedding_dim, hidden_dim, batch_first=True) # LSTM layer\n",
        "        self.fc = nn.Linear(hidden_dim, output_dim)  # fully connected layer\n",
        "        self.sigmoid = nn.Sigmoid()\n",
        "\n",
        "    def forward(self, x):\n",
        "        #embedding: convert words/tokens into a more meaningful dense vector of fixed size\n",
        "        embedded = self.embedding(x)  # send x to the embedding layer\n",
        "        _, (hidden, _) = self.lstm(embedded) # to the LSTM layer\n",
        "        out = self.fc(hidden[-1])#only pass the last hidden state of LSTM to the fc layer\n",
        "        return self.sigmoid(out) # sigmoid: the probability that input x is phishing"
      ]
    },
    {
      "cell_type": "markdown",
      "metadata": {
        "id": "GqvUJaaaiQRg"
      },
      "source": [
        "### **Step 6 - Instantiate our LSTM model and train the model**"
      ]
    },
    {
      "cell_type": "code",
      "execution_count": null,
      "metadata": {
        "colab": {
          "base_uri": "https://localhost:8080/"
        },
        "id": "SroTqU88pw1n",
        "outputId": "aaa41a93-f439-4084-a4e7-63f331d6072b"
      },
      "outputs": [
        {
          "output_type": "stream",
          "name": "stdout",
          "text": [
            "Epoch 1/10, Loss: 0.2353014051914215, Training Accuracy: 0.8949493993389969\n",
            "Epoch 2/10, Loss: 0.057954415678977966, Training Accuracy: 0.9408962193457804\n",
            "Epoch 3/10, Loss: 0.2591412365436554, Training Accuracy: 0.9582416368899721\n",
            "Epoch 4/10, Loss: 0.09283746033906937, Training Accuracy: 0.9653880435725724\n",
            "Epoch 5/10, Loss: 0.016597045585513115, Training Accuracy: 0.9712487280815921\n",
            "Epoch 6/10, Loss: 0.0193292498588562, Training Accuracy: 0.9715011397966508\n",
            "Epoch 7/10, Loss: 0.03154568001627922, Training Accuracy: 0.9750270159413774\n",
            "Epoch 8/10, Loss: 0.02233760617673397, Training Accuracy: 0.9760287749355167\n",
            "Epoch 9/10, Loss: 0.00425653625279665, Training Accuracy: 0.9779060870662659\n",
            "Epoch 10/10, Loss: 0.0765443965792656, Training Accuracy: 0.9848237456320942\n"
          ]
        }
      ],
      "source": [
        "# Instantiate the model\n",
        "vocab_size = len(tokenizer.word_index) + 1\n",
        "# embedding: a dense vector of size 32\n",
        "# the LSTM's hidden state's dimension is 64\n",
        "# the fully connected layer's dimension is 1\n",
        "model = PhishingClassifier(vocab_size, embedding_dim=32, hidden_dim=64, output_dim=1)\n",
        "# Define loss function and optimizer\n",
        "criterion = nn.BCELoss() #  the Binary Cross-Entropy Loss\n",
        "optimizer = optim.Adam(model.parameters(), lr=0.001)\n",
        "\n",
        "# Lists to store training loss and accuracy\n",
        "train_loss_history = []\n",
        "train_accuracy_history = []\n",
        "\n",
        "# Train the model\n",
        "num_epochs = 10\n",
        "for epoch in range(num_epochs):\n",
        "    model.train()\n",
        "    for batch_idx, (data, target) in enumerate(train_loader):\n",
        "        optimizer.zero_grad()\n",
        "        output = model(data)\n",
        "        loss = criterion(output.squeeze(), target)\n",
        "        loss.backward()\n",
        "        optimizer.step()\n",
        "\n",
        "    # Calculate accuracy during training\n",
        "    model.eval()\n",
        "    with torch.no_grad():\n",
        "        correct = 0\n",
        "        total = 0\n",
        "\n",
        "        for data, target in train_loader:  # Use train_loader for training accuracy\n",
        "            output = model(data)\n",
        "            predicted = (output.squeeze() > 0.5).float()\n",
        "            total += target.size(0)\n",
        "            correct += (predicted == target).sum().item()\n",
        "\n",
        "    train_accuracy = correct / total\n",
        "    print(f'Epoch {epoch+1}/{num_epochs}, Loss: {loss.item()}, Training Accuracy: {train_accuracy}')\n",
        "\n",
        "    # Append loss and accuracy to the history lists\n",
        "    train_loss_history.append(loss.item())\n",
        "    train_accuracy_history.append(train_accuracy)"
      ]
    },
    {
      "cell_type": "markdown",
      "metadata": {
        "id": "YhUrV4elj6N2"
      },
      "source": [
        "### **Step 7 - Evaluate the Model**"
      ]
    },
    {
      "cell_type": "code",
      "execution_count": null,
      "metadata": {
        "id": "N_X4KFFokCEJ",
        "colab": {
          "base_uri": "https://localhost:8080/"
        },
        "outputId": "36e10610-26ce-4579-b147-8555e3a441c1"
      },
      "outputs": [
        {
          "output_type": "stream",
          "name": "stdout",
          "text": [
            "Accuracy: 0.9707993500449604\n"
          ]
        }
      ],
      "source": [
        "# Evaluate the model\n",
        "model.eval()\n",
        "with torch.no_grad() :\n",
        "  correct = 0\n",
        "  total = 0\n",
        "\n",
        "  for data, target in test_loader:\n",
        "    output = model(data)\n",
        "    predicted = (output.squeeze() > 0.5).float()\n",
        "    total += target.size(0)\n",
        "    correct += (predicted == target).sum().item()\n",
        "  print(f'Accuracy: {correct / total}')"
      ]
    },
    {
      "cell_type": "markdown",
      "metadata": {
        "id": "ol-mWtTDzvA9"
      },
      "source": [
        "### **Plotting the Graphs**"
      ]
    },
    {
      "cell_type": "code",
      "execution_count": null,
      "metadata": {
        "id": "4FvrTCXPxy_s",
        "colab": {
          "base_uri": "https://localhost:8080/",
          "height": 957
        },
        "outputId": "b65fcd1a-8cce-4239-8224-f33b3df60b1f"
      },
      "outputs": [
        {
          "output_type": "display_data",
          "data": {
            "text/plain": [
              "<Figure size 1000x500 with 1 Axes>"
            ],
            "image/png": "[encoded data removed]"
          },
          "metadata": {}
        },
        {
          "output_type": "display_data",
          "data": {
            "text/plain": [
              "<Figure size 1000x500 with 1 Axes>"
            ],
            "image/png": "[encoded data removed]"
          },
          "metadata": {}
        }
      ],
      "source": [
        "import matplotlib.pyplot as plt\n",
        "\n",
        "# Plotting the training loss\n",
        "plt.figure(figsize=(10, 5))\n",
        "plt.plot(range(1, num_epochs + 1), train_loss_history, label='Training Loss')\n",
        "plt.title('Training Loss Over Epochs')\n",
        "plt.xlabel('Epoch')\n",
        "plt.ylabel('Loss')\n",
        "plt.legend()\n",
        "plt.show()\n",
        "\n",
        "# Plotting the training accuracy\n",
        "plt.figure(figsize=(10, 5))\n",
        "plt.plot(range(1, num_epochs + 1), train_accuracy_history, label='Training Accuracy')\n",
        "plt.title('Training Accuracy Over Epochs')\n",
        "plt.xlabel('Epoch')\n",
        "plt.ylabel('Accuracy')\n",
        "plt.legend()\n",
        "plt.show()"
      ]
    }
  ],
  "metadata": {
    "accelerator": "GPU",
    "colab": {
      "gpuType": "T4",
      "provenance": []
    },
    "kernelspec": {
      "display_name": "Python 3",
      "name": "python3"
    },
    "language_info": {
      "name": "python"
    }
  },
  "nbformat": 4,
  "nbformat_minor": 0
}